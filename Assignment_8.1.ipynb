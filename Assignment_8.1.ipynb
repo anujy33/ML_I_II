{
 "cells": [
  {
   "cell_type": "raw",
   "metadata": {},
   "source": [
    "Problem Statement\n",
    "\n",
    "Build the linear regression model using scikit learn in boston data to predict 'Price'\n",
    "based on other dependent variable.\n",
    "Here is the code to load the data\n",
    "import numpy as np\n",
    "import pandas as pd\n",
    "import scipy.stats as stats\n",
    "import matplotlib.pyplot as plt\n",
    "import sklearn\n",
    "from sklearn.datasets import load_boston\n",
    "boston = load_boston()\n",
    "bos = pd.DataFrame(boston.data)"
   ]
  },
  {
   "cell_type": "code",
   "execution_count": 23,
   "metadata": {},
   "outputs": [
    {
     "name": "stdout",
     "output_type": "stream",
     "text": [
      "31.056008680114143\n",
      "[ 1.26815709e-01  1.91230651e-02  9.45971976e-02 -8.08641879e-01\n",
      "  3.33327461e+00 -4.34982324e+00  8.82664949e-02 -3.47439856e-02\n",
      "  1.68114347e-02 -1.79163949e-03  1.84280468e-01 -9.72088575e-03]\n"
     ]
    }
   ],
   "source": [
    "#Importing boston data\n",
    "import numpy as np\n",
    "import pandas as pd\n",
    "import scipy.stats as stats\n",
    "import matplotlib.pyplot as plt\n",
    "import sklearn\n",
    "from sklearn.datasets import load_boston\n",
    "boston = load_boston()\n",
    "bos = pd.DataFrame(boston.data)\n",
    "\n",
    "#Creating dependent and independent variables\n",
    "X = bos.iloc[:,:-1].values\n",
    "y = bos.iloc[:,-1].values\n",
    "\n",
    "#Splitting dataset into training and test dataset\n",
    "from sklearn.cross_validation import train_test_split\n",
    "X_Train, X_test, y_train, y_test = train_test_split(X, y, test_size = 1/3, random_state = 0)\n",
    "\n",
    "#Applying simple linear regression\n",
    "from sklearn.linear_model import LinearRegression\n",
    "lm = LinearRegression()\n",
    "lm.fit(X_Train,y_train)\n",
    "\n",
    "#predicting y_test\n",
    "\n",
    "y_pred = lm.predict(X_test)\n",
    "print(lm.intercept_)\n",
    "print(lm.coef_)"
   ]
  },
  {
   "cell_type": "code",
   "execution_count": 22,
   "metadata": {},
   "outputs": [
    {
     "data": {
      "text/plain": [
       "array([ 5.45772129, 17.16324963, 12.51092059, 22.44512783, 10.25197344,\n",
       "       12.69410884, 13.38416954, 11.85503068, 15.26397467, 15.77038586,\n",
       "       29.98171284, 18.94882809, 16.72830775, 25.80981108,  7.2919038 ,\n",
       "        2.48838802, 12.79485965,  3.04804072,  6.29870802, 10.63733402,\n",
       "        9.24885092, 16.83348556, 13.88973485,  7.41862615, 10.38860788,\n",
       "       30.21232886, 15.08601906, 19.41332954,  3.31407689, 14.43622204,\n",
       "       16.9105429 , 15.98582666, 12.51123394, 11.33637544, 11.34171718,\n",
       "       17.11002632, 20.05796115, 17.09984656, 17.82903421, 17.23211157,\n",
       "        7.26120465,  9.89424128,  7.64272112, 19.97148111,  7.96857258,\n",
       "       11.17503347, 12.20145552, 15.88524686, 21.63526641, 10.72274862,\n",
       "       17.13662539, 10.84205809, 12.37071589, -2.79074499, 19.52926498,\n",
       "        9.96686839,  9.97680809, 10.97498581, 27.88606319, 14.14677844,\n",
       "        8.29829533, 11.38831927,  3.43914763,  5.74379967, 15.49019726,\n",
       "        6.05750649, 14.95170639, 12.69115878, 16.74909943,  9.05187846,\n",
       "       12.04645475,  9.30265393,  6.78903961,  5.33057075, 11.51122344,\n",
       "       23.13964572,  2.69581321,  9.84268733,  9.84639279, 13.96519374,\n",
       "        7.20104231, 15.15901871, 20.57311999,  3.26544642,  1.74021298,\n",
       "        7.66610688, 11.08848504, 18.77126276, 14.96969817, 15.91315872,\n",
       "       11.81265872, 17.95623553,  8.83380598,  6.34015543, 14.45536104,\n",
       "        8.99599374, 27.2027732 ,  7.99037034, 17.35306419, 13.58331793,\n",
       "        7.93755353, 13.34613731,  9.02905505,  8.30183553,  6.92820772,\n",
       "       11.81391472, 24.75168451, 21.90945995, 13.70926975,  5.68466371,\n",
       "       11.94921892, 19.7290316 , 13.70275194, 13.98211707, 16.50396417,\n",
       "       10.88009804, 21.11106112, 15.56600165, 22.23890154, -0.73418046,\n",
       "        5.27110276, 19.95192985, 13.1975377 , 12.53176266, 13.59677848,\n",
       "       17.77380391,  6.69158345, 14.29463214, 11.0841423 ,  4.74212467,\n",
       "       15.81897911, 17.57936651, 17.05955343, 17.01811787, 16.12808778,\n",
       "        3.46545511, 11.33146602, 18.91539009,  4.76120635, 20.76887863,\n",
       "       17.76950282, 10.93872846,  6.74401277,  5.63474987,  5.80984605,\n",
       "       15.95030584,  3.00955484,  5.52337485, 17.84609089, 21.96337648,\n",
       "       11.2291138 ,  9.06145023, 21.69094365,  9.5031827 , 15.67024864,\n",
       "        6.44097203, 17.17018766, 14.54376075, 11.01309071, 17.80306007,\n",
       "       22.00168788, 14.18017837,  4.656227  ,  6.93495771,  6.20934382,\n",
       "        9.96064215, 10.72869079,  9.87355048, 15.0522694 ])"
      ]
     },
     "execution_count": 22,
     "metadata": {},
     "output_type": "execute_result"
    }
   ],
   "source": [
    "y_pred"
   ]
  },
  {
   "cell_type": "code",
   "execution_count": null,
   "metadata": {},
   "outputs": [],
   "source": []
  }
 ],
 "metadata": {
  "kernelspec": {
   "display_name": "Python 3",
   "language": "python",
   "name": "python3"
  },
  "language_info": {
   "codemirror_mode": {
    "name": "ipython",
    "version": 3
   },
   "file_extension": ".py",
   "mimetype": "text/x-python",
   "name": "python",
   "nbconvert_exporter": "python",
   "pygments_lexer": "ipython3",
   "version": "3.6.4"
  }
 },
 "nbformat": 4,
 "nbformat_minor": 2
}
