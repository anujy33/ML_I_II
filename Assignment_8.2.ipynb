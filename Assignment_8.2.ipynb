{
 "cells": [
  {
   "cell_type": "code",
   "execution_count": 29,
   "metadata": {},
   "outputs": [],
   "source": [
    "# # Problem Statement\n",
    "\n",
    "# # I decided to treat this as a classification problem by creating a new binary variable affair\n",
    "# # (did the woman have at least one affair?) and trying to predict the classification for each\n",
    "# # woman.\n",
    "# # Dataset\n",
    "# # The dataset I chose is the affairs dataset that comes with Statsmodels. It was derived\n",
    "# # from a survey of women in 1974 by Redbook magazine, in which married women were\n",
    "# # asked about their participation in extramarital affairs. More information about the study\n",
    "# # is available in a 1978 paper from the Journal of Political Economy.\n",
    "# # Description of Variables\n",
    "# # The dataset contains 6366 observations of 9 variables:\n",
    "# # rate_marriage: woman's rating of her marriage (1 = very poor, 5 = very good)\n",
    "# # age: woman's age\n",
    "# # yrs_married: number of years married\n",
    "# # children: number of children\n",
    "# # religious: woman's rating of how religious she is (1 = not religious, 4 = strongly religious)\n",
    "# # educ: level of education (9 = grade school, 12 = high school, 14 = some college, 16 =\n",
    "# # college graduate, 17 = some graduate school, 20 = advanced degree)\n",
    "\n",
    "# # occupation: woman's occupation (1 = student, 2 = farming/semi-skilled/unskilled, 3 =\n",
    "# # \"white collar\", 4 = teacher/nurse/writer/technician/skilled, 5 = managerial/business, 6 =\n",
    "# # professional with advanced degree)\n",
    "# # occupation_husb: husband's occupation (same coding as above)\n",
    "# # affairs: time spent in extra-marital affairs\n",
    "# # Code to loading data and modules`\n",
    "# import numpy as np\n",
    "# import pandas as pd\n",
    "# import statsmodels.api as sm\n",
    "# import matplotlib.pyplot as plt\n",
    "# from patsy import dmatrices\n",
    "# from sklearn.linear_model import LogisticRegression\n",
    "# from sklearn.cross_validation import train_test_split\n",
    "# from sklearn import metrics\n",
    "# from sklearn.cross_validation import cross_val_score\n",
    "# dta = sm.datasets.fair.load_pandas().data\n",
    "\n",
    "# # # add \"affair\" column: 1 represents having affairs, 0 represents not\n",
    "# dta['affair'] = (dta.affairs > 0).astype(int)\n",
    "# y, X = dmatrices('affair ~ rate_marriage + age + yrs_married + children + \\\n",
    "# religious + educ + C(occupation) + C(occupation_husb)',\n",
    "# dta, return_type=\"dataframe\")\n",
    "\n",
    "# # X = X.rename(columns = {'C(occupation)[T.2.0]':'occ_2',\n",
    "# # 'C(occupation)[T.3.0]':'occ_3',\n",
    "# # 'C(occupation)[T.4.0]':'occ_4',\n",
    "# # 'C(occupation)[T.5.0]':'occ_5',\n",
    "# # 'C(occupation)[T.6.0]':'occ_6',\n",
    "# # 'C(occupation_husb)[T.2.0]':'occ_husb_2',\n",
    "# # 'C(occupation_husb)[T.3.0]':'occ_husb_3',\n",
    "# # 'C(occupation_husb)[T.4.0]':'occ_husb_4',\n",
    "# # 'C(occupation_husb)[T.5.0]':'occ_husb_5',\n",
    "# # 'C(occupation_husb)[T.6.0]':'occ_husb_6'})\n",
    "# # y = np.ravel(y)"
   ]
  },
  {
   "cell_type": "code",
   "execution_count": 32,
   "metadata": {},
   "outputs": [],
   "source": [
    "#Solution\n",
    "import numpy as np\n",
    "import pandas as pd\n",
    "import statsmodels.api as sm\n",
    "import matplotlib.pyplot as plt\n",
    "from patsy import dmatrices\n",
    "from sklearn.linear_model import LogisticRegression\n",
    "from sklearn.cross_validation import train_test_split\n",
    "from sklearn import metrics\n",
    "from sklearn.cross_validation import cross_val_score\n",
    "dta = sm.datasets.fair.load_pandas().data\n",
    "\n",
    "dta['affair'] = (dta.affairs > 0).astype(int)\n",
    "\n",
    "\n",
    "# Now setting dependent and independent variables\n",
    "X = dta.iloc[:,:-1].values\n",
    "y = dta.iloc[:,-1].values\n",
    "\n",
    "#using onehotencoder for dew features\n",
    "from sklearn.preprocessing import OneHotEncoder\n",
    "onehotencoder = OneHotEncoder(categorical_features=[6,7])\n",
    "X = onehotencoder.fit_transform(X).toarray()\n",
    "\n",
    "#Splitting data into training and test data\n",
    "from sklearn.cross_validation import train_test_split\n",
    "X_train, X_test, y_train, y_test = train_test_split(X,y, test_size = 0.20, random_state =0)\n",
    "\n",
    "#Implementing classifier algorithm \n",
    "from sklearn.linear_model import LogisticRegression\n",
    "classifier = LogisticRegression()\n",
    "classifier.fit(X_train,y_train)\n",
    "\n",
    "\n",
    "y_pred = classifier.predict(X_test)\n",
    "\n",
    "#to check the confusion matrix\n",
    "from sklearn.metrics import confusion_matrix\n",
    "cm = confusion_matrix(y_test, y_pred)\n"
   ]
  },
  {
   "cell_type": "code",
   "execution_count": 33,
   "metadata": {},
   "outputs": [
    {
     "data": {
      "text/plain": [
       "array([[885,   0],\n",
       "       [ 22, 367]], dtype=int64)"
      ]
     },
     "execution_count": 33,
     "metadata": {},
     "output_type": "execute_result"
    }
   ],
   "source": [
    "cm"
   ]
  },
  {
   "cell_type": "code",
   "execution_count": 34,
   "metadata": {},
   "outputs": [
    {
     "data": {
      "text/plain": [
       "array([0, 0, 0, ..., 0, 0, 1])"
      ]
     },
     "execution_count": 34,
     "metadata": {},
     "output_type": "execute_result"
    }
   ],
   "source": [
    "y_pred"
   ]
  },
  {
   "cell_type": "code",
   "execution_count": null,
   "metadata": {},
   "outputs": [],
   "source": []
  }
 ],
 "metadata": {
  "kernelspec": {
   "display_name": "Python 3",
   "language": "python",
   "name": "python3"
  },
  "language_info": {
   "codemirror_mode": {
    "name": "ipython",
    "version": 3
   },
   "file_extension": ".py",
   "mimetype": "text/x-python",
   "name": "python",
   "nbconvert_exporter": "python",
   "pygments_lexer": "ipython3",
   "version": "3.6.4"
  }
 },
 "nbformat": 4,
 "nbformat_minor": 2
}
